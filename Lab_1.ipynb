{
 "cells": [
  {
   "cell_type": "code",
   "execution_count": null,
   "metadata": {},
   "outputs": [],
   "source": [
    "#Chapter 01 Worksheet"
   ]
  },
  {
   "cell_type": "code",
   "execution_count": 3,
   "metadata": {},
   "outputs": [
    {
     "name": "stdout",
     "output_type": "stream",
     "text": [
      "Pradeep Vashisth \n",
      "address is: \n",
      "12 times square\n"
     ]
    }
   ],
   "source": [
    "#Write a line of code that will print your name.\n",
    "\n",
    "print(\"Pradeep Vashisth \\naddress is: \\n12 times square\")"
   ]
  },
  {
   "cell_type": "code",
   "execution_count": 4,
   "metadata": {},
   "outputs": [
    {
     "name": "stdout",
     "output_type": "stream",
     "text": [
      "0.6666666666666666\n",
      "0\n"
     ]
    }
   ],
   "source": [
    "print(2 / 3)\n",
    "print(2 // 3)"
   ]
  },
  {
   "cell_type": "code",
   "execution_count": 8,
   "metadata": {},
   "outputs": [
    {
     "name": "stdout",
     "output_type": "stream",
     "text": [
      "3\n"
     ]
    }
   ],
   "source": [
    "pi = float(3.14)\n",
    "print(pi)"
   ]
  },
  {
   "cell_type": "code",
   "execution_count": 14,
   "metadata": {},
   "outputs": [
    {
     "name": "stdout",
     "output_type": "stream",
     "text": [
      "Enter the radius:3.2\n",
      "radis is:3.2\n"
     ]
    }
   ],
   "source": [
    "radius = float(input(\"Enter the radius:\"))\n",
    "print(\"radis is:\" + str(radius))"
   ]
  },
  {
   "cell_type": "markdown",
   "metadata": {},
   "source": [
    "Constants\n",
    "A constant is a type of variable whose value cannot be changed. It is helpful to think of constants as containers that hold information which cannot be changed later.\n",
    "\n",
    "You can think of constants as a bag to store some books which cannot be replaced once placed inside the bag.\n",
    "\n",
    "\n",
    "Note: In reality, we don't use constants in Python. Naming them in all capital letters is a convention to separate them from variables, however, it does not actually prevent reassignment."
   ]
  },
  {
   "cell_type": "markdown",
   "metadata": {},
   "source": [
    "What are operators in python?\n",
    "Operators are special symbols in Python that carry out arithmetic or logical computation. The value that the operator operates on is called the operand.\n",
    "\n",
    "For example:\n",
    "\n",
    ">>> 2+3\n",
    "5\n",
    "\n",
    "Here, + is the operator that performs addition. 2 and 3 are the operands and 5 is the output of the operation."
   ]
  },
  {
   "cell_type": "markdown",
   "metadata": {},
   "source": [
    "EXercise - 1"
   ]
  },
  {
   "cell_type": "markdown",
   "metadata": {},
   "source": [
    "Create a program that asks the user for a temperature in Fahrenheit, and then prints the temperature in Celsius. Search the Internet for the correct calculation. Look at Chapter 1 for the miles-per-gallon example to get an idea of what should be done."
   ]
  },
  {
   "cell_type": "code",
   "execution_count": 18,
   "metadata": {},
   "outputs": [
    {
     "name": "stdout",
     "output_type": "stream",
     "text": [
      "Enter hte temp in Fahrenheit98.6\n",
      "the temperature in celsius is:37.0\n"
     ]
    }
   ],
   "source": [
    "Fahrenheit = float(input(\"Enter hte temp in Fahrenheit\"))\n",
    "x=Fahrenheit-32\n",
    "celsius=(x*5)/9\n",
    "print(\"the temperature in celsius is:\" + str(celsius))"
   ]
  },
  {
   "cell_type": "markdown",
   "metadata": {},
   "source": [
    "Exercise - 2\n",
    "\n",
    "Create a new program that will ask the user for the information needed to find the area of a trapezoid, and then print the area. The formula for the area of a trapezoid is:"
   ]
  },
  {
   "cell_type": "code",
   "execution_count": 20,
   "metadata": {},
   "outputs": [
    {
     "name": "stdout",
     "output_type": "stream",
     "text": [
      "Area of a trapezoid\n",
      "Enter the height of the trapezoid:5\n",
      "Enter the length of the bottom base:10\n",
      "Enter the length of the top base:7\n",
      "The area is:42.5\n"
     ]
    }
   ],
   "source": [
    "print(\"Area of a trapezoid\")\n",
    "h=int(input(\"Enter the height of the trapezoid:\"))\n",
    "x1=int(input(\"Enter the length of the bottom base:\"))\n",
    "x2=int(input(\"Enter the length of the top base:\"))\n",
    "A=h*(x1+x2)/2\n",
    "print(\"The area is:\"+str(A))"
   ]
  },
  {
   "cell_type": "code",
   "execution_count": null,
   "metadata": {},
   "outputs": [],
   "source": []
  },
  {
   "cell_type": "code",
   "execution_count": null,
   "metadata": {},
   "outputs": [],
   "source": []
  }
 ],
 "metadata": {
  "kernelspec": {
   "display_name": "Python 3",
   "language": "python",
   "name": "python3"
  },
  "language_info": {
   "codemirror_mode": {
    "name": "ipython",
    "version": 3
   },
   "file_extension": ".py",
   "mimetype": "text/x-python",
   "name": "python",
   "nbconvert_exporter": "python",
   "pygments_lexer": "ipython3",
   "version": "3.6.5"
  }
 },
 "nbformat": 4,
 "nbformat_minor": 2
}
