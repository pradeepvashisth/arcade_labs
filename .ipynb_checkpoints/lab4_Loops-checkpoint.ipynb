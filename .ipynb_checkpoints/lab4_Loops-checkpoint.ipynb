{
 "cells": [
  {
   "cell_type": "markdown",
   "metadata": {},
   "source": [
    "For Loops"
   ]
  },
  {
   "cell_type": "code",
   "execution_count": null,
   "metadata": {},
   "outputs": [],
   "source": [
    "# identations for for loops\n",
    "\n"
   ]
  },
  {
   "cell_type": "code",
   "execution_count": null,
   "metadata": {},
   "outputs": [],
   "source": []
  },
  {
   "cell_type": "markdown",
   "metadata": {},
   "source": [
    "# Counting By Numbers Other Than One\n",
    "\n",
    "write a program to show even numbers til 20\n",
    "\n",
    "If the program needs to count by 2's or use some other increment, that is easy. Just like before there are two ways to do it. The easiest is to supply a third number to the range function that tells it to count by 2's. The second way to do it is to go ahead and count by 1's, but multiply the variable by 2. The code example below shows both methods."
   ]
  },
  {
   "cell_type": "code",
   "execution_count": null,
   "metadata": {},
   "outputs": [],
   "source": [
    "for i in range(2,21,2):\n",
    "    print(i)"
   ]
  },
  {
   "cell_type": "code",
   "execution_count": 10,
   "metadata": {},
   "outputs": [
    {
     "name": "stdout",
     "output_type": "stream",
     "text": [
      "2\n",
      "4\n",
      "6\n",
      "8\n",
      "10\n",
      "12\n",
      "14\n",
      "16\n",
      "18\n",
      "20\n"
     ]
    }
   ],
   "source": [
    "# another way printing the even numbers til 20\n",
    "\n",
    "for i in range(10):\n",
    "    print((i+1)*2)"
   ]
  },
  {
   "cell_type": "code",
   "execution_count": null,
   "metadata": {},
   "outputs": [],
   "source": [
    "# countdown from 10 to 1"
   ]
  },
  {
   "cell_type": "code",
   "execution_count": 17,
   "metadata": {},
   "outputs": [
    {
     "name": "stdout",
     "output_type": "stream",
     "text": [
      "5\n",
      "4\n",
      "3\n",
      "2\n",
      "1\n",
      "0\n"
     ]
    }
   ],
   "source": [
    "for i in range(5, -1, -1):\n",
    "    print(i)"
   ]
  },
  {
   "cell_type": "code",
   "execution_count": 18,
   "metadata": {},
   "outputs": [
    {
     "name": "stdout",
     "output_type": "stream",
     "text": [
      "1\n",
      "2\n",
      "3\n",
      "4\n",
      "5\n"
     ]
    }
   ],
   "source": [
    "for i in [1,2,3,4,5]:\n",
    "    print(i)"
   ]
  },
  {
   "cell_type": "markdown",
   "metadata": {},
   "source": [
    "### Nested Loops\n",
    "\n",
    "This next block of code is almost identical to the one above. The second for loop has been indented one tab stop so that it is now nested inside of the first for loop. This changes how the code runs significantly. Try it and see."
   ]
  },
  {
   "cell_type": "code",
   "execution_count": 20,
   "metadata": {},
   "outputs": [
    {
     "name": "stdout",
     "output_type": "stream",
     "text": [
      "Say Please two times\n",
      "Say Please two times\n",
      "Say Please two times\n",
      "Say Please two times\n",
      "Please\n",
      "Please\n"
     ]
    }
   ],
   "source": [
    "for i in range(4):\n",
    "    print(\"Say Please two times\")\n",
    "for i in range(2):\n",
    "    print(\"Please\")"
   ]
  },
  {
   "cell_type": "code",
   "execution_count": 22,
   "metadata": {},
   "outputs": [
    {
     "name": "stdout",
     "output_type": "stream",
     "text": [
      "Say Please eight times\n",
      "Please\n",
      "Please\n",
      "Say Please eight times\n",
      "Please\n",
      "Please\n",
      "Say Please eight times\n",
      "Please\n",
      "Please\n",
      "Say Please eight times\n",
      "Please\n",
      "Please\n",
      "Done\n"
     ]
    }
   ],
   "source": [
    "for i in range(4):\n",
    "    print(\"Say Please eight times\")\n",
    "    for i in range(2):\n",
    "        print(\"Please\")\n",
    "print(\"Done\")"
   ]
  },
  {
   "cell_type": "markdown",
   "metadata": {},
   "source": [
    "# Keeping a Running Total\n",
    "\n",
    "A common operation in working with loops is to keep a running total. This “running total” code pattern is used a lot in this book. Keep a running total of a score, total a person's account transactions, use a total to find an average, etc. You might want to bookmark this code listing because we'll refer back to it several times. In the code below, the user enters five numbers and the code totals up their values."
   ]
  },
  {
   "cell_type": "code",
   "execution_count": 25,
   "metadata": {},
   "outputs": [
    {
     "name": "stdout",
     "output_type": "stream",
     "text": [
      "Please enter the number2\n",
      "Please enter the number2\n",
      "Please enter the number2\n",
      "Please enter the number4\n",
      "Please enter the number4\n",
      "the toal of 5 times is: 14\n"
     ]
    }
   ],
   "source": [
    "total = 0\n",
    "for i in range(5):\n",
    "    new_number=int(input(\"Please enter the number\"))\n",
    "    total+=new_number\n",
    "print(\"the toal of 5 times is: \"+ str(total))"
   ]
  },
  {
   "cell_type": "markdown",
   "metadata": {},
   "source": [
    "Note that line 1 creates the variable total, and sets it to an initial amount of zero. It is easy to forget the need to create and initialize the variable to zero. Without it the computer will complain when it hits line 4. It doesn't know how to add new_number to total because total hasn't been given a value yet.\n",
    "\n",
    "A common mistake is to use i to total instead of new_number. Remember, we are keeping a running total of the values entered by the user, not a running total of the current loop count.\n",
    "\n",
    "Speaking of the current loop count, we can use the loop count value to solve some mathematical operations. For example:\n",
    "\n",
    "\n",
    "If you aren't familiar with this type of formula, it is just a fancy way of stating:\n",
    "s=1+2+3+4+5..98+99+100\n",
    "\n",
    "The code below adds all the numbers from 1 to 100. It demonstrates a common pattern where a running total is kept inside of a loop. This also uses a separate variable sum to track the running total."
   ]
  },
  {
   "cell_type": "code",
   "execution_count": 36,
   "metadata": {},
   "outputs": [
    {
     "name": "stdout",
     "output_type": "stream",
     "text": [
      "5050\n"
     ]
    }
   ],
   "source": [
    "numbers=0\n",
    "for i in range(1,101):\n",
    "    numbers+=i\n",
    "print(numbers)"
   ]
  },
  {
   "cell_type": "markdown",
   "metadata": {},
   "source": [
    "Here's a different variation. This takes five numbers from the user and counts the number of times the user enters a zero:"
   ]
  },
  {
   "cell_type": "code",
   "execution_count": 40,
   "metadata": {},
   "outputs": [
    {
     "name": "stdout",
     "output_type": "stream",
     "text": [
      "Enter the number 9\n",
      "Enter the number 12\n",
      "Enter the number 0\n",
      "Enter the number 0\n",
      "Enter the number 23\n",
      "the number of times user enter Zero is :2\n"
     ]
    }
   ],
   "source": [
    "count=0\n",
    "for i in range(5):\n",
    "    number=int(input(\"Enter the number \"))\n",
    "    if number==0:\n",
    "        count+=1\n",
    "print(\"the number of times user enter Zero is :\" + str(count))"
   ]
  },
  {
   "cell_type": "markdown",
   "metadata": {},
   "source": [
    "# This example code covers common for loops and shows how they work."
   ]
  },
  {
   "cell_type": "code",
   "execution_count": 45,
   "metadata": {},
   "outputs": [
    {
     "name": "stdout",
     "output_type": "stream",
     "text": [
      "5\n"
     ]
    }
   ],
   "source": [
    "#nested loop example\n",
    "#A programmer that understands the nested for loops and running totals should be able to predict the \n",
    "#output of the code for below 3 examples\n",
    "\n",
    "b=0\n",
    "for d in range(5):\n",
    "    b=b+1\n",
    "print(b)"
   ]
  },
  {
   "cell_type": "code",
   "execution_count": 51,
   "metadata": {},
   "outputs": [
    {
     "name": "stdout",
     "output_type": "stream",
     "text": [
      "8\n"
     ]
    }
   ],
   "source": [
    "b=0\n",
    "for c in range(5):\n",
    "    b=b+1\n",
    "for d in range(3):\n",
    "    b=b+1\n",
    "print(b)"
   ]
  },
  {
   "cell_type": "code",
   "execution_count": 55,
   "metadata": {},
   "outputs": [
    {
     "name": "stdout",
     "output_type": "stream",
     "text": [
      "b\n",
      "b\n",
      "b\n",
      "b\n",
      "b\n",
      "b\n",
      "b\n",
      "b\n",
      "b\n",
      "b\n",
      "15\n"
     ]
    }
   ],
   "source": [
    "b=0\n",
    "for c in range(5):\n",
    "    b=b+1\n",
    "    for d in range(2):\n",
    "        b=b+1\n",
    "        print(\"b\")\n",
    "print(b)"
   ]
  },
  {
   "cell_type": "code",
   "execution_count": 58,
   "metadata": {},
   "outputs": [
    {
     "name": "stdout",
     "output_type": "stream",
     "text": [
      "Hi\n",
      "Hi\n",
      "Hi\n"
     ]
    }
   ],
   "source": [
    "# More examples with Loop\n",
    "# Print 'Hi' 3 times\n",
    "for i in range(3):\n",
    "    print(\"Hi\")\n"
   ]
  },
  {
   "cell_type": "code",
   "execution_count": 59,
   "metadata": {},
   "outputs": [
    {
     "name": "stdout",
     "output_type": "stream",
     "text": [
      "Hello\n",
      "Hello\n",
      "There\n"
     ]
    }
   ],
   "source": [
    "# Print 'Hello' 2 times and 'There' once\n",
    "for z in range(2):\n",
    "    print(\"Hello\")\n",
    "print(\"There\")"
   ]
  },
  {
   "cell_type": "code",
   "execution_count": 60,
   "metadata": {},
   "outputs": [
    {
     "name": "stdout",
     "output_type": "stream",
     "text": [
      "Hello\n",
      "There\n",
      "Hello\n",
      "There\n",
      "Hello\n",
      "There\n"
     ]
    }
   ],
   "source": [
    "# Print 'Hello' 'There' 3 times\n",
    "for i in range(3):\n",
    "    print(\"Hello\")\n",
    "    print(\"There\")"
   ]
  },
  {
   "cell_type": "code",
   "execution_count": 62,
   "metadata": {},
   "outputs": [
    {
     "name": "stdout",
     "output_type": "stream",
     "text": [
      "0\n",
      "1\n",
      "2\n",
      "3\n",
      "4\n",
      "5\n",
      "6\n",
      "7\n",
      "8\n",
      "9\n"
     ]
    }
   ],
   "source": [
    "# Print the numbers 0 to 9\n",
    "\n",
    "#either \n",
    "#for n in range(0,10):\n",
    "for n in range(10):\n",
    "    print(n)"
   ]
  },
  {
   "cell_type": "code",
   "execution_count": 91,
   "metadata": {},
   "outputs": [
    {
     "name": "stdout",
     "output_type": "stream",
     "text": [
      "2\n",
      "4\n",
      "6\n",
      "8\n",
      "10\n"
     ]
    }
   ],
   "source": [
    "# Two ways to print the even numbers 2 to 10\n",
    "\n",
    "#1st way-- easy way\n",
    "for n in range(2,11,2):\n",
    "    print(n)\n"
   ]
  },
  {
   "cell_type": "code",
   "execution_count": 89,
   "metadata": {},
   "outputs": [
    {
     "name": "stdout",
     "output_type": "stream",
     "text": [
      "2\n",
      "4\n",
      "6\n",
      "8\n",
      "10\n"
     ]
    }
   ],
   "source": [
    "#2nd way\n",
    "\n",
    "for n in range(1,11,2):\n",
    "    n=n+1\n",
    "    print(n)"
   ]
  },
  {
   "cell_type": "code",
   "execution_count": 95,
   "metadata": {},
   "outputs": [
    {
     "name": "stdout",
     "output_type": "stream",
     "text": [
      "2\n",
      "4\n",
      "6\n",
      "8\n",
      "10\n"
     ]
    }
   ],
   "source": [
    "# another good way\n",
    "\n",
    "for n in range(5):\n",
    "    print((n+1)*2)"
   ]
  },
  {
   "cell_type": "code",
   "execution_count": 99,
   "metadata": {},
   "outputs": [
    {
     "name": "stdout",
     "output_type": "stream",
     "text": [
      "10\n",
      "9\n",
      "8\n",
      "7\n",
      "6\n",
      "5\n",
      "4\n",
      "3\n",
      "2\n",
      "1\n"
     ]
    }
   ],
   "source": [
    "# Count down from 10 down to 1 (not zero)\n",
    "\n",
    "for c in range(10,0,-1):\n",
    "    print(c)"
   ]
  },
  {
   "cell_type": "code",
   "execution_count": 102,
   "metadata": {},
   "outputs": [
    {
     "name": "stdout",
     "output_type": "stream",
     "text": [
      "1\n",
      "2\n",
      "3\n",
      "4\n",
      "5\n"
     ]
    }
   ],
   "source": [
    "# Print numbers out of a list\n",
    "\n",
    "for t in [1,2,3,4,5]:\n",
    "    print(t)"
   ]
  },
  {
   "cell_type": "code",
   "execution_count": 103,
   "metadata": {},
   "outputs": [
    {
     "name": "stdout",
     "output_type": "stream",
     "text": [
      "a\n",
      "b\n",
      "b\n",
      "b\n",
      "a\n",
      "b\n",
      "b\n",
      "b\n",
      "a\n",
      "b\n",
      "b\n",
      "b\n"
     ]
    }
   ],
   "source": [
    "# What does this print? Why? \n",
    "# since it is a nested loop , it will print three times a then b 9 times (3*3)\n",
    "\n",
    "for i in range(3):\n",
    "    print(\"a\")\n",
    "    for j in range(3):\n",
    "        print(\"b\")"
   ]
  },
  {
   "cell_type": "code",
   "execution_count": 110,
   "metadata": {},
   "outputs": [
    {
     "name": "stdout",
     "output_type": "stream",
     "text": [
      "10\n"
     ]
    }
   ],
   "source": [
    "# What is the value of a?\n",
    "a = 0\n",
    "for i in range(10):\n",
    "    a = a + 1\n",
    "print(a)"
   ]
  },
  {
   "cell_type": "code",
   "execution_count": 114,
   "metadata": {},
   "outputs": [
    {
     "name": "stdout",
     "output_type": "stream",
     "text": [
      "1\n",
      "2\n",
      "3\n"
     ]
    }
   ],
   "source": [
    "for b in range(3):\n",
    "    b=b+1\n",
    "    print(b)"
   ]
  },
  {
   "cell_type": "code",
   "execution_count": 115,
   "metadata": {},
   "outputs": [
    {
     "name": "stdout",
     "output_type": "stream",
     "text": [
      "5\n"
     ]
    }
   ],
   "source": [
    "# What is the value of a?\n",
    "a = 0\n",
    "for i in range(3):\n",
    "    a = a + 1\n",
    "for j in range(2):\n",
    "    a = a + 1\n",
    "print(a)"
   ]
  },
  {
   "cell_type": "code",
   "execution_count": 118,
   "metadata": {},
   "outputs": [
    {
     "name": "stdout",
     "output_type": "stream",
     "text": [
      "110\n"
     ]
    }
   ],
   "source": [
    "# What is the value of a?\n",
    "a = 0\n",
    "for i in range(10):\n",
    "    a = a + 1\n",
    "    for j in range(10):\n",
    "        a = a + 1\n",
    "print(a)\n",
    " "
   ]
  },
  {
   "cell_type": "code",
   "execution_count": 122,
   "metadata": {},
   "outputs": [
    {
     "name": "stdout",
     "output_type": "stream",
     "text": [
      "5050\n"
     ]
    }
   ],
   "source": [
    "# What is the value of sum?\n",
    "sum = 0\n",
    "for i in range(1, 101):\n",
    "    sum = sum + i\n",
    "print(sum)"
   ]
  },
  {
   "cell_type": "markdown",
   "metadata": {},
   "source": [
    "# While Loop\n",
    "\n",
    "A for loop is used when a program knows it needs to repeat a block of code for a certain number of times. A while loop is used when a program needs to loop until a particular condition occurs.\n",
    "\n",
    "Oddly enough, a while loop can be used anywhere a for loop is used. It can be used to loop until an increment variable reaches a certain value. Why have a for loop if a while loop can do everything? The for loop is simpler to use and code. A for loop that looks like this:\n",
    "for i in range(5);\n",
    "    print(i)\n",
    "\n",
    "but while can perform the same using below code\n",
    "i=0\n",
    "while i<5:\n",
    "    print(1)\n",
    "    i=i+1"
   ]
  },
  {
   "cell_type": "markdown",
   "metadata": {},
   "source": [
    "Line 1 of the while loop sets up a “sentinel” variable that will be used to count the number of times the loop has been executed. This happens automatically in a for loop eliminating one line of code. Line 2 contains the actual while loop. The format of the while loop is very similar to the if statement. If the condition holds, the code in the loop will repeat. Line 4 adds to the increment value. In a for loop this happens automatically, eliminating another line of code. As one can see from the code, the for loop is more compact than a while loop and is easier to read. Otherwise programs would do everything with a while loop.\n",
    "\n",
    "A common mistake is to confuse the for loop and the while loop. The code below shows a programmer that can't quite make up his/her mind between a for loop or a while loop."
   ]
  },
  {
   "cell_type": "markdown",
   "metadata": {},
   "source": [
    "#Using Increment Operators\n",
    "\n",
    "a=a+1 is same as a+=1\n",
    "\n",
    "a=a*2 is same as a*=2"
   ]
  },
  {
   "cell_type": "code",
   "execution_count": null,
   "metadata": {},
   "outputs": [],
   "source": [
    "#Looping Until User Wants To Quit\n",
    "\n",
    "#A very common operation is to loop until the user performs a request to quit:\n",
    "\n",
    "quit=\"n\"\n",
    "while quit==\"n\":\n",
    "    user=input(\"do you want to quit\")\n",
    "    print(\"you are done\")"
   ]
  },
  {
   "cell_type": "code",
   "execution_count": 2,
   "metadata": {},
   "outputs": [
    {
     "name": "stdout",
     "output_type": "stream",
     "text": [
      "do you want to quit? y\n",
      "you are still in game? n\n",
      "do you want to quit? Y\n",
      "great keep playing\n",
      "you are still in game? Y\n",
      "bad choice\n"
     ]
    }
   ],
   "source": [
    "#There may be several ways for a loop to quit. Using a Boolean variable to trigger the event is a way of handling that. \n",
    "#Here's an example:\n",
    "\n",
    "done=False\n",
    "while not done:\n",
    "    quit=input(\"do you want to quit? \")\n",
    "    if quit==\"Y\":\n",
    "        print(\"great keep playing\")\n",
    "        done=True\n",
    "    \n",
    "    new_click=input(\"you are still in game? \")\n",
    "    if quit==\"Y\":\n",
    "        done=True\n",
    "        print(\"bad choice\")\n"
   ]
  },
  {
   "cell_type": "markdown",
   "metadata": {},
   "source": [
    "This isn't perfect though, because if the user says she wants to quit, the code will still ask if she wants to attack the dragon. How could you fix this?\n",
    "\n",
    "Here is an example of using a while loop where the code repeats until the value gets close enough to one:"
   ]
  },
  {
   "cell_type": "code",
   "execution_count": 4,
   "metadata": {},
   "outputs": [
    {
     "name": "stdout",
     "output_type": "stream",
     "text": [
      "do you want to quit? n\n",
      "do you want to quit? n\n",
      "do you want to quit? no\n",
      "do you want to quit? Yes\n",
      "do you want to quit? no\n",
      "do you want to quit? Y\n",
      "great keep playing\n",
      "you are still in game? Y\n",
      "bad choice\n"
     ]
    }
   ],
   "source": [
    "done=False\n",
    "while not done:\n",
    "    quit=input(\"do you want to quit? \")\n",
    "    if quit==\"Y\":\n",
    "        print(\"great keep playing\")\n",
    "        done=True\n",
    "    \n",
    "        new_click=input(\"you are still in game? \")\n",
    "        if quit==\"Y\":\n",
    "            done=True\n",
    "            print(\"bad choice\")"
   ]
  },
  {
   "cell_type": "code",
   "execution_count": 5,
   "metadata": {},
   "outputs": [
    {
     "name": "stdout",
     "output_type": "stream",
     "text": [
      "0.5\n",
      "0.75\n",
      "0.875\n",
      "0.9375\n",
      "0.96875\n",
      "0.984375\n",
      "0.9921875\n",
      "0.99609375\n",
      "0.998046875\n",
      "0.9990234375\n"
     ]
    }
   ],
   "source": [
    "value = 0\n",
    "increment = 0.5\n",
    "while value < 0.999:\n",
    "    value += increment\n",
    "    increment *= 0.5\n",
    "    print(value)"
   ]
  },
  {
   "cell_type": "markdown",
   "metadata": {},
   "source": [
    "# Random Number Program\n",
    "\n",
    "By default, Python does not know how to make random numbers. It is necessary to have Python import a code library that can create random numbers. So to use random numbers, the first thing that should appear at the top of the program is an import statement:\n",
    "\n",
    "import random\n",
    "Just like with pygame, it is important not to create a file with the same name as what is being imported. Creating a file called random.py will cause Python to start importing that file instead of the system library that creates random numbers.\n",
    "\n",
    "After this, random numbers can be created with the randrange function. For example, this code creates random numbers from 0 to 49. By default the lower bound is 0."
   ]
  },
  {
   "cell_type": "code",
   "execution_count": null,
   "metadata": {},
   "outputs": [],
   "source": []
  }
 ],
 "metadata": {
  "kernelspec": {
   "display_name": "Python 3",
   "language": "python",
   "name": "python3"
  },
  "language_info": {
   "codemirror_mode": {
    "name": "ipython",
    "version": 3
   },
   "file_extension": ".py",
   "mimetype": "text/x-python",
   "name": "python",
   "nbconvert_exporter": "python",
   "pygments_lexer": "ipython3",
   "version": "3.6.5"
  }
 },
 "nbformat": 4,
 "nbformat_minor": 2
}
